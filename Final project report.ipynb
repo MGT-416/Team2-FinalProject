{
 "cells": [
  {
   "cell_type": "markdown",
   "metadata": {},
   "source": [
    "# MGT - 416 Network Analytics - Final project report - CFF Railway Network\n",
    "### Clément Catajar & Cédric Cook\n",
    "Due to December 12 2017"
   ]
  },
  {
   "cell_type": "markdown",
   "metadata": {},
   "source": [
    "## Abstract"
   ]
  },
  {
   "cell_type": "markdown",
   "metadata": {},
   "source": [
    "Epidemiology is very important to understand the impact and the spreading of a new virus or bactery accrocss a country. Being able to predict the spread of a given virus can impact political, medical, economical and sociological decisions. Indeed, many policy can be taken in order to reduce or react to an epidemic if governments know the critical cities in the country.\n",
    "\n",
    "Therefore, in this report, we will explore the CFF railway and buses network to find the spreading of a virus and the most influential spreaders. We will analyze this phenomenon with a modified SIR model. Indeed, based on the basic SIR infection model, we will attribute a probability of infection proportional to the population of the city and the type of stops (bus or train stop) and determine the most influential spreader among all the cities in Switzerland. \n",
    "\n",
    "This project aims to answer the following questions:\n",
    "- What is the percentage of Switzerland's population attained when a virus is spread from a Swiss city?\n",
    "- What are the most critical starting cities for infection? \n",
    "\n",
    "The work on these questions was done in different parts. First of all, it was necessary to acquire all the data on the network and prepare it for further analysis. Then the analysis was done in two main part, the first one was the computation of the main basic and centrality measures in order to understand the network's behavior and secondly we built a modifed SIR model to evaluation the spread of an infection in the network. \n",
    "\n",
    "TO DO !! \n",
    "Main results, answer to the questions and conclusion"
   ]
  },
  {
   "cell_type": "markdown",
   "metadata": {},
   "source": [
    "### Table of Contents\n",
    "\n",
    "1. <a href='#Abstract'>Abstract</a>\n",
    "- <a href='#Introduction'>Introduction</a>\n",
    "- <a href='#Data'>Data Acquisition and Preparation</a>\n",
    "- <a href='#OverviewAnalysis'>Overview of Analysis</a>\n",
    "- <a href='#Analysis'>Analysis</a>\n",
    "- <a href='#Results'>Results and Interpretation</a>\n",
    "- <a href='#Conclusion'>Conclusion</a>\n",
    "- <a href='#Appendices'>Appendices</a>"
   ]
  },
  {
   "cell_type": "markdown",
   "metadata": {},
   "source": [
    "<a id='Introduction'></a>\n",
    "## Introduction"
   ]
  },
  {
   "cell_type": "markdown",
   "metadata": {},
   "source": [
    "Understanding the behavior of a virus for a country is one of the key topic for public health policy and epidemic prevention. Moreover, public transports like train and buses are one of the common way to spread an infection accross a country. Therefore, in this report, we will analyze the CFF Railway and Buses Network in Switzerland to look at an infection spreading. We will thus try to answer the following questions:\n",
    "- What is the percentage of Switzerland's population attained when a virus is spread from a Swiss city?\n",
    "- What are the most critical starting cities for infection? \n",
    "\n",
    "To adress this issue, we will first present how we acquire data and prepare it. Then we will give an overview and conduct all of our analysis and finally we will analyze the results and answer the questions. "
   ]
  },
  {
   "cell_type": "markdown",
   "metadata": {},
   "source": [
    "<a id='Data'></a>\n",
    "## Data acquisition and preparation"
   ]
  },
  {
   "cell_type": "markdown",
   "metadata": {},
   "source": [
    "### Data acquisition"
   ]
  },
  {
   "cell_type": "markdown",
   "metadata": {},
   "source": [
    "The data used to generate the network were taken from https://opentransportdata.swiss/fr/datasetList. It contains all the information on the transportation data in Switzerland. For this analysis we used the train and bus schedule for the coming year 2018. \n",
    "\n",
    "Different files are available in this dataset. The structure of this dataset is explained by the following UML Diagram: \n",
    "\n",
    "<img src=\"UML Data.png\">\n",
    "\n",
    "The useful files in this dataset are the following:\n",
    "- The file \"routes\" describes the type of route (Bus, InterRegio, InterCity, etc...)\n",
    "- The file \"trips\" creates the matching between a trip (journey) and a route type\n",
    "- The file \"stops\" contains all the data on the stops (bus and train station) in Switzerland\n",
    "- The file \"stop times\" contains all the sequence of stops for a given trip and the scheduled time of each train and bus\n",
    "\n",
    "For simplicity and because our analysis does not take into account time factors, we will not consider the data on the dates and the times for each trip. "
   ]
  },
  {
   "cell_type": "markdown",
   "metadata": {},
   "source": [
    "### Data preparation"
   ]
  },
  {
   "cell_type": "markdown",
   "metadata": {},
   "source": [
    "All the data cleaning and preparation can be found in the \"Data Claning Final Project\" notebook. Please note that this notebook requires very large computation time due to the size of the dataset (several hours for some cells).\n",
    "The work done to prepare the data for the analysis is described hereafter:\n",
    "\n",
    "- __Identification of the relevant routes, trips and stops__\n",
    "\n",
    "In this first part, we decided to clean and select only the routes, trips and stops corresponding to buses or train. As we have seen with the UML Diagramm in the previous section, we first select the route_id corresponding to relevant type then we extract the relevant trip_id corresponding to these routes and finally we extract the stops contained in this trips.\n",
    "\n",
    "- __Identification of trips sequence__\n",
    "\n",
    "The second part of the preparation was done to identify the sequence of stops for each trip. In order to do that, we analyzed the \"stop_times\" file and extract the sequence of stops for each trip. \n",
    "\n",
    "- __Population preparation__\n",
    "\n",
    "TO ADD --> Cedric\n",
    "\n",
    "- __Network generation with attributes__\n",
    "\n",
    "The last part of the data preparation was the generation of the network with all the attributes. To do this, we first create all the nodes with attributes 'Longitude', 'Latitude', 'Population', 'NodeType' from the identified relevant stops. For the NodeType attribute, only two options are considered: Train or Bus. For the Population attribute, we assign for all stops the value -1 if the stop is not link to a known city, 0 if it is a Bus stop and the actual number of the population for the train stop of the city. Then the edges are generated via the previous identified sequence of stops for each trip. \n",
    "Finally the graph is saved in a .gml file"
   ]
  },
  {
   "cell_type": "markdown",
   "metadata": {},
   "source": [
    "<a id='OverviewAnalysis'></a>\n",
    "## Overview of analysis"
   ]
  },
  {
   "cell_type": "markdown",
   "metadata": {},
   "source": [
    "With all the data cleaned and prepared, we are now able to start our analysis. The aim of our analysis is therefore to understand how the network works and what are the main nodes and then we will answer the following questions:\n",
    "- What is the percentage of Switzerland's population attained when a virus is spread from a Swiss city?\n",
    "- What are the most critical starting cities for infection?\n",
    "\n",
    "The analysis available in the next section will have the following structure:\n",
    "- First we will import the graph and print the basic information about it\n",
    "- We will then look at the different communities  and look at the community as nodes.\n",
    "- We will look at different basic measures on the network \n",
    "- We will look at centrality measures (in, out, close, between, pagerank)\n",
    "- We will build our Infection Model"
   ]
  },
  {
   "cell_type": "markdown",
   "metadata": {},
   "source": [
    "<a id='Analysis'></a>\n",
    "## Analysis"
   ]
  },
  {
   "cell_type": "markdown",
   "metadata": {},
   "source": [
    "CopyPaste Code here"
   ]
  },
  {
   "cell_type": "markdown",
   "metadata": {},
   "source": [
    "<a id='Results'></a>\n",
    "## Results and interpretation"
   ]
  },
  {
   "cell_type": "markdown",
   "metadata": {},
   "source": [
    "ToDo "
   ]
  },
  {
   "cell_type": "markdown",
   "metadata": {},
   "source": [
    "<a id='Conclusion'></a>\n",
    "## Conclusion"
   ]
  },
  {
   "cell_type": "markdown",
   "metadata": {},
   "source": [
    "Only a spatial diffusion model, does not take into account the time factor. One way to do it is to consider the calendar dates and exact time information and to assign a \"Life time\" for the infection. It can therefore be more accurate."
   ]
  },
  {
   "cell_type": "markdown",
   "metadata": {},
   "source": [
    "<a id='Appendices'></a>\n",
    "## Appendices"
   ]
  },
  {
   "cell_type": "markdown",
   "metadata": {},
   "source": [
    "### Project structure"
   ]
  },
  {
   "cell_type": "markdown",
   "metadata": {},
   "source": [
    "ToDo"
   ]
  }
 ],
 "metadata": {
  "kernelspec": {
   "display_name": "Python 3",
   "language": "python",
   "name": "python3"
  },
  "language_info": {
   "codemirror_mode": {
    "name": "ipython",
    "version": 3
   },
   "file_extension": ".py",
   "mimetype": "text/x-python",
   "name": "python",
   "nbconvert_exporter": "python",
   "pygments_lexer": "ipython3",
   "version": "3.6.1"
  }
 },
 "nbformat": 4,
 "nbformat_minor": 2
}

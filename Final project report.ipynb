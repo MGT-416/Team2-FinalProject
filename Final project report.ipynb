{
 "cells": [
  {
   "cell_type": "markdown",
   "metadata": {},
   "source": [
    "# MGT - 416 Network Analytics - Final project report - CFF Railway Network\n",
    "### Clément Catajar & Cédric Cook\n",
    "Due to December 12 2017"
   ]
  },
  {
   "cell_type": "markdown",
   "metadata": {},
   "source": [
    "## Abstract"
   ]
  },
  {
   "cell_type": "markdown",
   "metadata": {},
   "source": [
    "Political, Medical, economic and sociological factors.\n",
    "Study of epidemiology is very important to understand the impact on a new virus or bactery in Switzerland. \n",
    "Therefore, we will explore the CFF railway network to find the spreading of a virus. \n",
    "We will analyze it by an .... model and determine the most influential spreader and ...\n",
    "Main results and conclusion\n",
    "\n",
    "Questions:\n",
    "- Percentage of population of Switzerland attained when virus is spread from a Swiss city?\n",
    "- What are the most critical starting nodes for infection? Influential spreaders?"
   ]
  },
  {
   "cell_type": "markdown",
   "metadata": {},
   "source": [
    "### Table of Contents -- NEED HYPERLINKS ON TITLE\n",
    "1. Executive Summary/Abstract\n",
    "2. Introduction\n",
    "3. Data Acquisition and Preparation\n",
    "    - Data acquisition\n",
    "    - Data preparation\n",
    "4. Overview of Analysis\n",
    "5. Analysis\n",
    "6. Results and Interpretation\n",
    "7. Conclusion\n",
    "8. Appendices\n",
    "    - Project Structure"
   ]
  },
  {
   "cell_type": "markdown",
   "metadata": {},
   "source": [
    "## Data acquisition and preparation"
   ]
  },
  {
   "cell_type": "markdown",
   "metadata": {},
   "source": [
    "### Data acquisition"
   ]
  },
  {
   "cell_type": "markdown",
   "metadata": {},
   "source": [
    "List the source of data and all the links important. \n",
    "Present the UML Diagram and quickly analyse the structure.\n",
    "Explain why it is obviously a network"
   ]
  },
  {
   "cell_type": "markdown",
   "metadata": {},
   "source": [
    "### Data preparation"
   ]
  },
  {
   "cell_type": "markdown",
   "metadata": {},
   "source": [
    "Refer to the Data Cleaning Final notebook.\n",
    "Precise very long computation time.\n",
    "Describe all the work done: \n",
    "- Identification of the relevant routes, trips and stops\n",
    "- Identification of trips sequence\n",
    "- Identification of start and stop for each trip\n",
    "- Network generation with attributes !"
   ]
  },
  {
   "cell_type": "markdown",
   "metadata": {},
   "source": [
    "## Overview of analysis"
   ]
  },
  {
   "cell_type": "markdown",
   "metadata": {},
   "source": [
    "What is the questions we want to answer for this network. \n",
    "Content of the analysis part:\n",
    "- Goal\n",
    "- Drawing\n",
    "- Communities (do the community as node)\n",
    "- Basic measures\n",
    "- Centrality measures (in, out, close, between, pagerank)\n",
    "- Infection Model"
   ]
  },
  {
   "cell_type": "markdown",
   "metadata": {},
   "source": [
    "## Analysis"
   ]
  },
  {
   "cell_type": "markdown",
   "metadata": {},
   "source": [
    "CopyPaste Code here"
   ]
  },
  {
   "cell_type": "markdown",
   "metadata": {},
   "source": [
    "## Results and interpretation"
   ]
  },
  {
   "cell_type": "markdown",
   "metadata": {},
   "source": [
    "ToDo "
   ]
  },
  {
   "cell_type": "markdown",
   "metadata": {},
   "source": [
    "## Conclusion"
   ]
  },
  {
   "cell_type": "markdown",
   "metadata": {},
   "source": [
    "ToDo"
   ]
  },
  {
   "cell_type": "markdown",
   "metadata": {},
   "source": [
    "## Appendices"
   ]
  },
  {
   "cell_type": "markdown",
   "metadata": {},
   "source": []
  },
  {
   "cell_type": "markdown",
   "metadata": {},
   "source": [
    "### Project structure"
   ]
  },
  {
   "cell_type": "markdown",
   "metadata": {},
   "source": []
  }
 ],
 "metadata": {
  "kernelspec": {
   "display_name": "Python 3",
   "language": "python",
   "name": "python3"
  },
  "language_info": {
   "codemirror_mode": {
    "name": "ipython",
    "version": 3
   },
   "file_extension": ".py",
   "mimetype": "text/x-python",
   "name": "python",
   "nbconvert_exporter": "python",
   "pygments_lexer": "ipython3",
   "version": "3.6.1"
  }
 },
 "nbformat": 4,
 "nbformat_minor": 2
}

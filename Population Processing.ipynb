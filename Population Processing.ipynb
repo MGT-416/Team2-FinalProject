{
 "cells": [
  {
   "cell_type": "markdown",
   "metadata": {},
   "source": [
    "# Population Processing Code\n",
    "\n",
    "This notebook is used to take Swiss population data per town and process it into a usable format to be able to correlate it with the public transport network."
   ]
  },
  {
   "cell_type": "markdown",
   "metadata": {},
   "source": [
    "The file obtained from [Admin.ch](https://www.pxweb.bfs.admin.ch/pxweb/en/px-x-0102020000_401/px-x-0102020000_401/px-x-0102020000_401.px/table/tableViewLayout2/?rxid=ad5c6be1-7da0-49f6-834d-1b346f731e91)"
   ]
  },
  {
   "cell_type": "code",
   "execution_count": 37,
   "metadata": {},
   "outputs": [
    {
     "name": "stdout",
     "output_type": "stream",
     "text": [
      "Ten largest communes in Switzerland\n",
      "['Zürich', 'Genève', 'Basel', 'Lausanne', 'Bern', 'Winterthur', 'Luzern', 'St. Gallen', 'Lugano', 'Biel/Bienne']\n",
      "\n",
      "And the ten smallest:\n",
      "['Clavaleyres', 'Linescio', 'Niederwald', 'Lohn (GR)', 'Rebévelier', 'Berken', 'Schelten', 'Kammersrohr', 'Bister', 'Corippo']\n"
     ]
    }
   ],
   "source": [
    "commune_prefix = '......'\n",
    "commune_population = {}\n",
    "\n",
    "with open('swiss_population_by_town.csv', 'r', encoding=\"latin_1\") as f:\n",
    "    lines = f.readlines()\n",
    "    lines = lines[3:] # Remove header lines, keep only data\n",
    "    for line in lines:\n",
    "        place, amount = [elem.strip('\"') for elem in line.strip().split(',')]\n",
    "        \n",
    "        # Are the first 6 characters of the line dots? Then this line is for a commune.\n",
    "        if place[0:6] == commune_prefix:\n",
    "            commune_name = place[11:] # All characters after '......XXXX ' are the commune name\n",
    "            commune_population[commune_name] = int(amount)\n",
    "                \n",
    "# Test that it worked, print 10 smallest and largest:  \n",
    "ordered = sorted(commune_population, key=commune_population.get, reverse=True)\n",
    "print(\"Ten largest communes in Switzerland\")\n",
    "print(ordered[:10])\n",
    "print()\n",
    "print(\"And the ten smallest:\")\n",
    "print(ordered[-10:])"
   ]
  },
  {
   "cell_type": "markdown",
   "metadata": {},
   "source": [
    "Now pickle the data, so we can use this dictionary elsewhere directly."
   ]
  },
  {
   "cell_type": "code",
   "execution_count": 38,
   "metadata": {},
   "outputs": [],
   "source": [
    "import pickle"
   ]
  },
  {
   "cell_type": "code",
   "execution_count": 39,
   "metadata": {},
   "outputs": [],
   "source": [
    "with open('swiss_population_pickle.pkl', 'wb') as f:\n",
    "    pickle.dump(commune_population, f)"
   ]
  },
  {
   "cell_type": "code",
   "execution_count": null,
   "metadata": {},
   "outputs": [],
   "source": [
    "with open('swiss_population_pickle.pkl)"
   ]
  }
 ],
 "metadata": {
  "kernelspec": {
   "display_name": "Python 3",
   "language": "python",
   "name": "python3"
  },
  "language_info": {
   "codemirror_mode": {
    "name": "ipython",
    "version": 3
   },
   "file_extension": ".py",
   "mimetype": "text/x-python",
   "name": "python",
   "nbconvert_exporter": "python",
   "pygments_lexer": "ipython3",
   "version": "3.6.3"
  }
 },
 "nbformat": 4,
 "nbformat_minor": 2
}

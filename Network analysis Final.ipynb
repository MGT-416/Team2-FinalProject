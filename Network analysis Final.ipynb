{
 "cells": [
  {
   "cell_type": "markdown",
   "metadata": {},
   "source": [
    "# Network analytics project on the CFF railway network"
   ]
  },
  {
   "cell_type": "markdown",
   "metadata": {},
   "source": [
    "Hereafter is the anlysis conducted on the CFF railway network extracted and cleaned. "
   ]
  },
  {
   "cell_type": "markdown",
   "metadata": {},
   "source": [
    "### Libraries"
   ]
  },
  {
   "cell_type": "code",
   "execution_count": null,
   "metadata": {
    "scrolled": true
   },
   "outputs": [],
   "source": [
    "!pip uninstall -y ndlib"
   ]
  },
  {
   "cell_type": "code",
   "execution_count": null,
   "metadata": {
    "scrolled": false
   },
   "outputs": [],
   "source": [
    "!pip install git+https://github.com/CedricCook/ndlib"
   ]
  },
  {
   "cell_type": "code",
   "execution_count": 1,
   "metadata": {},
   "outputs": [],
   "source": [
    "import networkx as nx\n",
    "import matplotlib.pyplot as plt\n",
    "import pandas as pd\n",
    "import numpy as np\n",
    "import ndlib\n",
    "\n",
    "import warnings\n",
    "warnings.filterwarnings('ignore')"
   ]
  },
  {
   "cell_type": "markdown",
   "metadata": {},
   "source": [
    "### Import the graph"
   ]
  },
  {
   "cell_type": "code",
   "execution_count": 2,
   "metadata": {
    "scrolled": true
   },
   "outputs": [
    {
     "name": "stdout",
     "output_type": "stream",
     "text": [
      "Name: \n",
      "Type: Graph\n",
      "Number of nodes: 17718\n",
      "Number of edges: 21101\n",
      "Average degree:   2.3819\n"
     ]
    }
   ],
   "source": [
    "CFF_Graph = nx.read_gml('CFF_Graph_Final_2.gml')\n",
    "print(nx.info(CFF_Graph))"
   ]
  },
  {
   "cell_type": "markdown",
   "metadata": {},
   "source": [
    "As the average degree is really low (close to 2) we are almost dealing with a tree and therefore the graph will not be easy to draw. "
   ]
  },
  {
   "cell_type": "code",
   "execution_count": null,
   "metadata": {},
   "outputs": [],
   "source": [
    "nx.draw_networkx(CFF_Graph, pos=nx.spring_layout(CFF_Graph), with_labels=False, size = 15)\n",
    "plt.show()"
   ]
  },
  {
   "cell_type": "code",
   "execution_count": null,
   "metadata": {},
   "outputs": [],
   "source": [
    "nx.draw_circular(CFF_Graph, with_labels = False, size = 15)\n",
    "plt.show()"
   ]
  },
  {
   "cell_type": "code",
   "execution_count": null,
   "metadata": {},
   "outputs": [],
   "source": [
    "nx.draw_spectral(CFF_Graph, with_labels = False, size = 15)\n",
    "plt.show()"
   ]
  },
  {
   "cell_type": "code",
   "execution_count": null,
   "metadata": {},
   "outputs": [],
   "source": [
    "nx.draw_spring(CFF_Graph, with_labels = False, size = 15)\n",
    "plt.show()"
   ]
  },
  {
   "cell_type": "markdown",
   "metadata": {},
   "source": [
    "As the drawings are not very good looking with networkx, I will plot them with community detection method in the following paragraph. (I will perform this on the GCC)"
   ]
  },
  {
   "cell_type": "markdown",
   "metadata": {},
   "source": [
    "# Diameter and average shortest path length with the GCC"
   ]
  },
  {
   "cell_type": "markdown",
   "metadata": {},
   "source": [
    "To deal with the diameter and the average shortest path length, it is necessary to deal with the giant connected component of the graph. "
   ]
  },
  {
   "cell_type": "code",
   "execution_count": null,
   "metadata": {
    "scrolled": true
   },
   "outputs": [],
   "source": [
    "# Extract the giant connected component to compute the diameter and the average shortest path length\n",
    "CFF_Graph_GCC = max(nx.connected_component_subgraphs(CFF_Graph), key=len) \n",
    "print(nx.info(CFF_Graph_GCC))"
   ]
  },
  {
   "cell_type": "code",
   "execution_count": null,
   "metadata": {},
   "outputs": [],
   "source": [
    "print('The diameter of the GCC is ', nx.diameter(CFF_Graph_GCC))\n",
    "print('The average shortest path length of the GCC is ', nx.average_shortest_path_length(CFF_Graph_GCC))"
   ]
  },
  {
   "cell_type": "markdown",
   "metadata": {},
   "source": [
    "These results are what one could expect. Indeed, these results tell us that the longest distance in the network is 58 which seem coherent with the size of Switzerland. Moreover, the average shortest path length is about 14 stops which mean that on average people can go from anywhere in Switzerland to anywhere else in 14 stops. (It is also coherent with the size of the country)."
   ]
  },
  {
   "cell_type": "markdown",
   "metadata": {},
   "source": [
    "# Community Detection with the GCC"
   ]
  },
  {
   "cell_type": "markdown",
   "metadata": {},
   "source": [
    "In this part, we will look at the different communities in the network. For this purpose, we will use the GCC in order to avoid single node community and to have a better understanding of what is goind on in the network. "
   ]
  },
  {
   "cell_type": "code",
   "execution_count": null,
   "metadata": {
    "scrolled": true
   },
   "outputs": [],
   "source": [
    "# Install and import the Louvain algorithm\n",
    "!pip install python-louvain\n",
    "import community as community "
   ]
  },
  {
   "cell_type": "code",
   "execution_count": null,
   "metadata": {},
   "outputs": [],
   "source": [
    "# Create the best partition \n",
    "partition = community.best_partition(CFF_Graph_GCC)"
   ]
  },
  {
   "cell_type": "code",
   "execution_count": null,
   "metadata": {},
   "outputs": [],
   "source": [
    "# Drawing\n",
    "size = float(len(set(partition.values())))\n",
    "pos = nx.spring_layout(CFF_Graph_GCC)\n",
    "count = 0.\n",
    "for com in set(partition.values()) :\n",
    "    count = count + 1.\n",
    "    list_nodes = [nodes for nodes in partition.keys()\n",
    "                                if partition[nodes] == com]\n",
    "    nx.draw_networkx_nodes(CFF_Graph_GCC, pos, list_nodes, node_size = 20,\n",
    "                                node_color = str(count / size))\n",
    "\n",
    "\n",
    "nx.draw_networkx_edges(CFF_Graph_GCC,pos, alpha=0.5)\n",
    "plt.show()"
   ]
  },
  {
   "cell_type": "markdown",
   "metadata": {},
   "source": [
    "This graph is not very signifiant. Let's plot the graph for each community."
   ]
  },
  {
   "cell_type": "code",
   "execution_count": null,
   "metadata": {},
   "outputs": [],
   "source": [
    "# Give the number of communities\n",
    "size = int(len(set(partition.values())))\n",
    "print('The number of communities: ', size)"
   ]
  },
  {
   "cell_type": "markdown",
   "metadata": {},
   "source": [
    "This number of communities is coherent also with the size of the country. As we know that there are 26 \"cantons\" in Switzerland, we can see that there is almost 1.5/2 communities per canton which is reasonable (2 hubs per canton on average)"
   ]
  },
  {
   "cell_type": "code",
   "execution_count": null,
   "metadata": {},
   "outputs": [],
   "source": [
    "# Function to plot each community \n",
    "def plot_community(G,number):\n",
    "    # Get the list of nodes in community numbered \"number\"\n",
    "    c = [nodes for nodes in partition.keys() if partition[nodes] == number]\n",
    "    # Extract the graph\n",
    "    T = G.subgraph(c)\n",
    "    # Name the community\n",
    "    degree = nx.degree(T)\n",
    "    degree_sorted = sorted(degree, key=degree.__getitem__, reverse=True)\n",
    "    if ((len(degree_sorted))!=0):\n",
    "        title_com = degree_sorted[0]\n",
    "        # Plot the subgraph\n",
    "        nx.draw_networkx(T,pos=nx.spring_layout(T), with_labels=False, size = 15)\n",
    "        plt.title(title_com)\n",
    "        plt.show()\n",
    "   "
   ]
  },
  {
   "cell_type": "code",
   "execution_count": null,
   "metadata": {
    "scrolled": true
   },
   "outputs": [],
   "source": [
    "# Display the 40 communities with title corresponding to the highest degree node\n",
    "for i in range(size):\n",
    "    plot_community(CFF_Graph,i+1)"
   ]
  },
  {
   "cell_type": "markdown",
   "metadata": {},
   "source": [
    "As expected, most of the communities are associated with one big city/hubs in the different canton. Some of the communities correspond to smaller et more local region but overall the results are consistent. However we can notice that Lausanne seem not to have a community but is probably in the Montreux community. As I also take into account regional train, maybe Montreux has larger degree than Lausanne and it explains why the community is named \"Montreux\"."
   ]
  },
  {
   "cell_type": "markdown",
   "metadata": {},
   "source": [
    "# Degree Distribution"
   ]
  },
  {
   "cell_type": "code",
   "execution_count": null,
   "metadata": {},
   "outputs": [],
   "source": [
    "Degree_List = list(nx.degree(CFF_Graph).values())\n",
    "\n",
    "plt.hist(Degree_List) # Plot the Frequency distribution linlin  \n",
    "plt.xlabel('Degree')  \n",
    "plt.ylabel('Frequency')\n",
    "plt.title('Degree distribution CFF_Graph - LinLin')  \n",
    "plt.show()\n",
    "\n",
    "plt.hist(Degree_List, log = True)   # Plot the Frequency distribution loglin\n",
    "plt.xlabel('Degree')\n",
    "plt.ylabel('Frequency')\n",
    "plt.title('Degree distribution CFF_Graph - LogLin')\n",
    "plt.show()\n",
    "\n",
    "plt.hist(Degree_List, normed=True) # Plot the probability distribution linlin  \n",
    "plt.xlabel('Degree')  \n",
    "plt.ylabel('Probability*bins_width')\n",
    "plt.title('Degree distribution CFF_Graph - LinLin')  \n",
    "plt.show()\n",
    "\n",
    "plt.hist(Degree_List, log = True, normed = True)   # Plot the Frequency distribution loglin\n",
    "plt.xlabel('Degree')\n",
    "plt.ylabel('Probability*bins_width')\n",
    "plt.title('Degree distribution CFF_Graph - LogLin')\n",
    "plt.show()"
   ]
  },
  {
   "cell_type": "markdown",
   "metadata": {},
   "source": [
    "These graphs show us that the degree distribution seems to be like an decreasing exponential one (like a Poisson law maybe). It is coherent as we consider many small, regional and isolated stop with 1 or 2 connections. As expected, there is a few big hubs connected to more than 20 other stops. "
   ]
  },
  {
   "cell_type": "markdown",
   "metadata": {},
   "source": [
    "# Density, local and overall clustering"
   ]
  },
  {
   "cell_type": "code",
   "execution_count": null,
   "metadata": {},
   "outputs": [],
   "source": [
    "print('The average clustering coefficient for the network is', nx.average_clustering(CFF_Graph))\n",
    "print('The overall clustering coefficient for the network is', nx.transitivity(CFF_Graph))\n",
    "print('The density of the network is', nx.density(CFF_Graph))\n",
    "print(CFF_Graph)"
   ]
  },
  {
   "cell_type": "markdown",
   "metadata": {},
   "source": [
    "The clustering coefficient and the density of the network are quite low. As expected the network is really sparse as we take into account really small regional stops. "
   ]
  },
  {
   "cell_type": "markdown",
   "metadata": {},
   "source": [
    "# Centrality Measures"
   ]
  },
  {
   "cell_type": "markdown",
   "metadata": {},
   "source": [
    "Hereafter are listed all the different centrality measure seen in class."
   ]
  },
  {
   "cell_type": "markdown",
   "metadata": {},
   "source": [
    "### Degree Centrality"
   ]
  },
  {
   "cell_type": "code",
   "execution_count": null,
   "metadata": {},
   "outputs": [],
   "source": [
    "# Degree centrality \n",
    "Degree_Centrality = nx.degree(CFF_Graph)"
   ]
  },
  {
   "cell_type": "code",
   "execution_count": null,
   "metadata": {},
   "outputs": [],
   "source": [
    "# Highest nodes for degree centrality\n",
    "Degree_Centrality_Sorted = sorted(Degree_Centrality, key=Degree_Centrality.__getitem__, reverse=True)\n",
    "print('The top 20 nodes for degree centrality are:')\n",
    "for i in range(20):\n",
    "    print(Degree_Centrality_Sorted[i])"
   ]
  },
  {
   "cell_type": "markdown",
   "metadata": {},
   "source": [
    "### Closeness Centrality"
   ]
  },
  {
   "cell_type": "code",
   "execution_count": null,
   "metadata": {},
   "outputs": [],
   "source": [
    "# Closeness Centrality\n",
    "Close_Centrality = nx.closeness_centrality(CFF_Graph)"
   ]
  },
  {
   "cell_type": "code",
   "execution_count": null,
   "metadata": {},
   "outputs": [],
   "source": [
    "# Highest nodes for closeness\n",
    "Close_Centrality_Sorted = sorted(Close_Centrality, key=Close_Centrality.__getitem__, reverse=True)\n",
    "print('The top 20 nodes for closeness centrality are:')\n",
    "for i in range(20):\n",
    "    print(Close_Centrality_Sorted[i])"
   ]
  },
  {
   "cell_type": "markdown",
   "metadata": {},
   "source": [
    "### Betweenness Centrality"
   ]
  },
  {
   "cell_type": "code",
   "execution_count": null,
   "metadata": {},
   "outputs": [],
   "source": [
    "# Betweenness centrality\n",
    "Between_Centrality = nx.betweenness_centrality(CFF_Graph)"
   ]
  },
  {
   "cell_type": "code",
   "execution_count": null,
   "metadata": {},
   "outputs": [],
   "source": [
    "# Highest nodes for betweenness\n",
    "Between_Centrality_Sorted = sorted(Between_Centrality, key=Between_Centrality.__getitem__, reverse=True)\n",
    "print('The top 20 nodes for betweenness centrality are:')\n",
    "for i in range(20):\n",
    "    print(Between_Centrality_Sorted[i])"
   ]
  },
  {
   "cell_type": "markdown",
   "metadata": {},
   "source": [
    "### Page Rank"
   ]
  },
  {
   "cell_type": "code",
   "execution_count": null,
   "metadata": {},
   "outputs": [],
   "source": [
    "# Page rank \n",
    "Page_Rank = nx.pagerank(CFF_Graph)"
   ]
  },
  {
   "cell_type": "code",
   "execution_count": null,
   "metadata": {},
   "outputs": [],
   "source": [
    "# Highest nodes for Page rank measure\n",
    "Page_Rank_Sorted = sorted(Page_Rank, key=Page_Rank.__getitem__, reverse=True)\n",
    "print('The top 20 nodes for page rank are:')\n",
    "for i in range(20):\n",
    "    print(Page_Rank_Sorted[i])"
   ]
  },
  {
   "cell_type": "markdown",
   "metadata": {},
   "source": [
    "### EigenVector Centrality"
   ]
  },
  {
   "cell_type": "code",
   "execution_count": null,
   "metadata": {},
   "outputs": [],
   "source": [
    "# EigenVector centrality \n",
    "EigenVector_Centrality = nx.eigenvector_centrality(CFF_Graph)"
   ]
  },
  {
   "cell_type": "code",
   "execution_count": null,
   "metadata": {},
   "outputs": [],
   "source": [
    "# Highest nodes for EigenVector Centrality \n",
    "EigenVector_Centrality_Sorted = sorted(EigenVector_Centrality, key=EigenVector_Centrality.__getitem__, reverse=True)\n",
    "print('The top 20 nodes for eigenvector centrality are:')\n",
    "for i in range(20):\n",
    "    print(EigenVector_Centrality_Sorted[i])"
   ]
  },
  {
   "cell_type": "markdown",
   "metadata": {},
   "source": [
    "Again, as we could expect, the centrality measures return all the big hubs in Switzerland like Zurich, Lausanne, Geneve, Bern, Otlen, Bale, Luzern,..\n",
    "It therefore shows that these cities are the most \"important\" ones in the railway network of Switzerland. "
   ]
  },
  {
   "cell_type": "markdown",
   "metadata": {},
   "source": [
    "# Homophily"
   ]
  },
  {
   "cell_type": "markdown",
   "metadata": {},
   "source": [
    "This anlysis can maybe be conducted by canton if we can find an easy and automatized way to affect a canton value to a station or a stop. I don't have time to do it now but it can be a good analysis for the final project. "
   ]
  },
  {
   "cell_type": "markdown",
   "metadata": {},
   "source": [
    "# Ties strength analysis (Neighborhood overlap)"
   ]
  },
  {
   "cell_type": "markdown",
   "metadata": {},
   "source": [
    "Let's report the code generated in Assignment 2 to calculate the neighborhood overlap"
   ]
  },
  {
   "cell_type": "code",
   "execution_count": null,
   "metadata": {},
   "outputs": [],
   "source": [
    "neigh_overlap = dict()  # Create the dictionnary of the neighbourhood overlap\n",
    "\n",
    "for e in CFF_Graph.edges():\n",
    "    source = e[0]\n",
    "    sink = e[1]\n",
    "    neigh_source = list(nx.all_neighbors(CFF_Graph,source)) # list of neighbors of the source vertex\n",
    "    neigh_sink = list(nx.all_neighbors(CFF_Graph,sink)) # list of neighbors of the sink vertex\n",
    "    \n",
    "    neigh_source.remove(sink) # The sink node is not included in the number of neighbors according to Easley and Kleinberg\n",
    "    neigh_sink.remove(source) # The source node is not included in the number of neighbors according to Easley and Kleinberg\n",
    "    \n",
    "    common_neighbors = len(list(nx.common_neighbors(CFF_Graph,source,sink))) # number of common neighbors\n",
    "    at_least_one = len(neigh_source) + len(neigh_sink) - common_neighbors # number of neighbors of at least one node \n",
    "    if (at_least_one == 0):\n",
    "        print('The nodes', source, 'and', sink, 'are isolated.')\n",
    "    else:\n",
    "        ratio = common_neighbors/at_least_one\n",
    "        neigh_overlap[e] = ratio\n",
    "    "
   ]
  },
  {
   "cell_type": "markdown",
   "metadata": {},
   "source": [
    "Let's now look at the neighborhood overlap distribution "
   ]
  },
  {
   "cell_type": "code",
   "execution_count": null,
   "metadata": {},
   "outputs": [],
   "source": [
    "list_overlap = list(neigh_overlap.values()) # List of the overlap coefficients\n",
    "plt.hist(list_overlap)    \n",
    "plt.xlabel('Neighbourhood Overlap')\n",
    "plt.ylabel('Frequency')\n",
    "plt.title('Neighbourhood Overlap frequency distribution')\n",
    "plt.show()"
   ]
  },
  {
   "cell_type": "markdown",
   "metadata": {},
   "source": [
    "As expected there is a lot of zeros as many stops are not hubs but small stops with just two neighbors (the previous and the next one of a line)"
   ]
  },
  {
   "cell_type": "markdown",
   "metadata": {
    "collapsed": true
   },
   "source": [
    "Let's look at the lowest and highest links to confirm"
   ]
  },
  {
   "cell_type": "code",
   "execution_count": null,
   "metadata": {},
   "outputs": [],
   "source": [
    "sorted_overlap = sorted(neigh_overlap, key=neigh_overlap.__getitem__)\n",
    "\n",
    "# Print the 20 links with lowest overlap\n",
    "print('The 20 lowest links for the neighborhood overlap are:')\n",
    "for i in range(20):\n",
    "    print(sorted_overlap[i])\n",
    "    \n",
    "# Print the 20 links with highest overlap\n",
    "print('\\n The 20 highest links for the neighborhood overlap are:')\n",
    "for i in range(20):\n",
    "    print(sorted_overlap[-i-1])"
   ]
  },
  {
   "cell_type": "markdown",
   "metadata": {},
   "source": [
    "The analysis of the neighborhood overlap is really strange for this network. Indeed, due to regional trains the results are falsed by all the small connections. It will require to aggregate some of the data to have a better view on the neighborhood overlap."
   ]
  },
  {
   "cell_type": "markdown",
   "metadata": {},
   "source": [
    "## Infection model "
   ]
  },
  {
   "cell_type": "markdown",
   "metadata": {},
   "source": [
    "In this part we will analyse the spread of an infection accross Switzerland. We are going to use a SIR model. The probability of infection will be define as follow: \n",
    "- Probability constant for a bus infection\n",
    "- Probability proportional to the population of the city for the train station"
   ]
  },
  {
   "cell_type": "code",
   "execution_count": 3,
   "metadata": {},
   "outputs": [],
   "source": [
    "import ndlib.models.epidemics.SIRNodewiseModel as sir\n",
    "import ndlib.models.ModelConfig as mc"
   ]
  },
  {
   "cell_type": "code",
   "execution_count": 10,
   "metadata": {},
   "outputs": [
    {
     "name": "stdout",
     "output_type": "stream",
     "text": [
      "Name: \n",
      "Type: Graph\n",
      "Number of nodes: 2269\n",
      "Number of edges: 2996\n",
      "Average degree:   2.6408\n"
     ]
    }
   ],
   "source": [
    "CFF_Graph_Trains = nx.read_gml('CFF_Graph.gml')\n",
    "print(nx.info(CFF_Graph_Trains))"
   ]
  },
  {
   "cell_type": "code",
   "execution_count": 11,
   "metadata": {},
   "outputs": [],
   "source": [
    "MAX_POPULATION = 390000"
   ]
  },
  {
   "cell_type": "code",
   "execution_count": 12,
   "metadata": {},
   "outputs": [],
   "source": [
    "data_stops_with_population = pd.read_csv('stops_with_population.csv')\n",
    "def population_nodes(network):\n",
    "    for node in network.nodes():\n",
    "        pop_values = data_stops_with_population.loc[data_stops_with_population['stop'] == node]['population'].values\n",
    "        if len(pop_values) > 0:\n",
    "            population = pop_values[0]\n",
    "        else:\n",
    "            population = None\n",
    "\n",
    "        network.node[node]['population'] = population\n",
    "        \n",
    "population_nodes(CFF_Graph_Trains)"
   ]
  },
  {
   "cell_type": "code",
   "execution_count": null,
   "metadata": {
    "scrolled": false
   },
   "outputs": [],
   "source": [
    "print(CFF_Graph.node['Zürich HB'])"
   ]
  },
  {
   "cell_type": "code",
   "execution_count": 18,
   "metadata": {},
   "outputs": [],
   "source": [
    "def sir_nw(network, infected_nodes, nb_iter):\n",
    "    # Create the SIR model \n",
    "    sir_model = sir.SIRNodewiseModel(network)\n",
    "\n",
    "    # Initialize the parameter for the diffusion model\n",
    "    sir_cfg = mc.Configuration()\n",
    "#     sir_cfg.add_model_parameter('beta', 0.01)\n",
    "    sir_cfg.add_model_parameter('gamma', 0.005)\n",
    "    \n",
    "    for node in network.nodes():\n",
    "        population = network.node[node]['population']\n",
    "        node_beta = 0\n",
    "        if population == None:\n",
    "            node_beta = 0.05  \n",
    "        elif population == -1:\n",
    "            node_beta = 0.05\n",
    "        elif population > 0:\n",
    "            node_beta = population / MAX_POPULATION\n",
    "            \n",
    "        sir_cfg.add_node_configuration('beta', node, node_beta)\n",
    "    \n",
    "    sir_cfg.add_model_initial_configuration(\"Infected\", infected_nodes)\n",
    "\n",
    "    sir_model.set_initial_status(sir_cfg)\n",
    "    \n",
    "    # Calculate the nb_ite iterations and the trends\n",
    "    sir_iter = sir_model.iteration_bunch(nb_iter)\n",
    "    \n",
    "    return sir_model, sir_iter"
   ]
  },
  {
   "cell_type": "code",
   "execution_count": 19,
   "metadata": {
    "scrolled": false
   },
   "outputs": [
    {
     "name": "stdout",
     "output_type": "stream",
     "text": [
      "{0: 1416, 1: 446, 2: 407}\n"
     ]
    }
   ],
   "source": [
    "model, iters = sir_nw(CFF_Graph_Trains, ['Lausanne', 'Bern', 'Zürich HB', 'Chur'], 200)\n",
    "print(iters[-1]['node_count'])"
   ]
  },
  {
   "cell_type": "code",
   "execution_count": 20,
   "metadata": {
    "scrolled": false
   },
   "outputs": [],
   "source": [
    "import ndlib.viz.mpl.DiffusionTrend as dt"
   ]
  },
  {
   "cell_type": "code",
   "execution_count": 21,
   "metadata": {},
   "outputs": [
    {
     "data": {
      "image/png": "[encoded data removed]",
      "text/plain": [
       "<matplotlib.figure.Figure at 0x10d2650f0>"
      ]
     },
     "metadata": {},
     "output_type": "display_data"
    }
   ],
   "source": [
    "# Simulation execution\n",
    "trends = model.build_trends(iters)\n",
    "\n",
    "# Visualization\n",
    "viz = dt.DiffusionTrend(model, trends)\n",
    "viz.plot()"
   ]
  },
  {
   "cell_type": "code",
   "execution_count": 8,
   "metadata": {},
   "outputs": [],
   "source": [
    "def sirSimSource(network, nb_iter, source_node, otherNodes=None):\n",
    "    # Create the SIR model \n",
    "    sir_model = sir.SIRNodewiseModel(network)\n",
    "\n",
    "    # Initialize the parameter for the diffusion model\n",
    "    sir_cfg = mc.Configuration()\n",
    "    sir_cfg.add_model_parameter('gamma', 0.005)\n",
    "    \n",
    "    for node in network.nodes():\n",
    "        population = network.node[node]['population']\n",
    "        node_beta = 0.05 # default for bus stops\n",
    "        if population == -1:\n",
    "            node_beta = 0.05\n",
    "        elif population > 0:\n",
    "            node_beta = population / MAX_POPULATION\n",
    "            \n",
    "        sir_cfg.add_node_configuration('beta', node, node_beta)\n",
    "    \n",
    "    sir_cfg.add_model_initial_configuration(\"Infected\", [source_node] + otherNodes)\n",
    "\n",
    "    sir_model.set_initial_status(sir_cfg)\n",
    "    \n",
    "    # Calculate the nb_ite iterations and the trends\n",
    "    sir_iter = sir_model.iteration_bunch(nb_iter)\n",
    "    \n",
    "    return sir_model, sir_iter\n",
    "    "
   ]
  },
  {
   "cell_type": "code",
   "execution_count": 9,
   "metadata": {},
   "outputs": [
    {
     "ename": "KeyboardInterrupt",
     "evalue": "",
     "output_type": "error",
     "traceback": [
      "\u001b[0;31m---------------------------------------------------------------------------\u001b[0m",
      "\u001b[0;31mKeyboardInterrupt\u001b[0m                         Traceback (most recent call last)",
      "\u001b[0;32m<ipython-input-9-cb20f3cc508b>\u001b[0m in \u001b[0;36m<module>\u001b[0;34m()\u001b[0m\n\u001b[1;32m      6\u001b[0m     \u001b[0mmaxInfected\u001b[0m \u001b[0;34m=\u001b[0m \u001b[0;36m0\u001b[0m\u001b[0;34m\u001b[0m\u001b[0m\n\u001b[1;32m      7\u001b[0m     \u001b[0;32mfor\u001b[0m \u001b[0mLoopNode\u001b[0m \u001b[0;32min\u001b[0m \u001b[0mCFF_Graph\u001b[0m\u001b[0;34m.\u001b[0m\u001b[0mnodes\u001b[0m\u001b[0;34m(\u001b[0m\u001b[0;34m)\u001b[0m\u001b[0;34m:\u001b[0m\u001b[0;34m\u001b[0m\u001b[0m\n\u001b[0;32m----> 8\u001b[0;31m         \u001b[0m_\u001b[0m\u001b[0;34m,\u001b[0m \u001b[0mstates\u001b[0m \u001b[0;34m=\u001b[0m \u001b[0msirSimSource\u001b[0m\u001b[0;34m(\u001b[0m\u001b[0mCFF_Graph\u001b[0m\u001b[0;34m,\u001b[0m \u001b[0;36m20\u001b[0m\u001b[0;34m,\u001b[0m \u001b[0mLoopNode\u001b[0m\u001b[0;34m,\u001b[0m \u001b[0motherNodes\u001b[0m\u001b[0;34m=\u001b[0m\u001b[0mMostInfluentialNodes\u001b[0m\u001b[0;34m)\u001b[0m\u001b[0;34m\u001b[0m\u001b[0m\n\u001b[0m\u001b[1;32m      9\u001b[0m         \u001b[0mstate\u001b[0m \u001b[0;34m=\u001b[0m \u001b[0mstates\u001b[0m\u001b[0;34m[\u001b[0m\u001b[0;34m-\u001b[0m\u001b[0;36m1\u001b[0m\u001b[0;34m]\u001b[0m\u001b[0;34m\u001b[0m\u001b[0m\n\u001b[1;32m     10\u001b[0m         \u001b[0mnInfected\u001b[0m \u001b[0;34m=\u001b[0m \u001b[0mstate\u001b[0m\u001b[0;34m[\u001b[0m\u001b[0;34m'node_count'\u001b[0m\u001b[0;34m]\u001b[0m\u001b[0;34m[\u001b[0m\u001b[0;36m1\u001b[0m\u001b[0;34m]\u001b[0m\u001b[0;34m\u001b[0m\u001b[0m\n",
      "\u001b[0;32m<ipython-input-8-b81f437ed535>\u001b[0m in \u001b[0;36msirSimSource\u001b[0;34m(network, nb_iter, source_node, otherNodes)\u001b[0m\n\u001b[1;32m     22\u001b[0m \u001b[0;34m\u001b[0m\u001b[0m\n\u001b[1;32m     23\u001b[0m     \u001b[0;31m# Calculate the nb_ite iterations and the trends\u001b[0m\u001b[0;34m\u001b[0m\u001b[0;34m\u001b[0m\u001b[0m\n\u001b[0;32m---> 24\u001b[0;31m     \u001b[0msir_iter\u001b[0m \u001b[0;34m=\u001b[0m \u001b[0msir_model\u001b[0m\u001b[0;34m.\u001b[0m\u001b[0miteration_bunch\u001b[0m\u001b[0;34m(\u001b[0m\u001b[0mnb_iter\u001b[0m\u001b[0;34m)\u001b[0m\u001b[0;34m\u001b[0m\u001b[0m\n\u001b[0m\u001b[1;32m     25\u001b[0m \u001b[0;34m\u001b[0m\u001b[0m\n\u001b[1;32m     26\u001b[0m     \u001b[0;32mreturn\u001b[0m \u001b[0msir_model\u001b[0m\u001b[0;34m,\u001b[0m \u001b[0msir_iter\u001b[0m\u001b[0;34m\u001b[0m\u001b[0m\n",
      "\u001b[0;32m~/Sites/epfl-coursework/netan/Team2-FinalProject/venv/lib/python3.6/site-packages/ndlib/models/DiffusionModel.py\u001b[0m in \u001b[0;36miteration_bunch\u001b[0;34m(self, bunch_size, node_status)\u001b[0m\n\u001b[1;32m    186\u001b[0m         \u001b[0msystem_status\u001b[0m \u001b[0;34m=\u001b[0m \u001b[0;34m[\u001b[0m\u001b[0;34m]\u001b[0m\u001b[0;34m\u001b[0m\u001b[0m\n\u001b[1;32m    187\u001b[0m         \u001b[0;32mfor\u001b[0m \u001b[0mit\u001b[0m \u001b[0;32min\u001b[0m \u001b[0mpast\u001b[0m\u001b[0;34m.\u001b[0m\u001b[0mbuiltins\u001b[0m\u001b[0;34m.\u001b[0m\u001b[0mxrange\u001b[0m\u001b[0;34m(\u001b[0m\u001b[0;36m0\u001b[0m\u001b[0;34m,\u001b[0m \u001b[0mbunch_size\u001b[0m\u001b[0;34m)\u001b[0m\u001b[0;34m:\u001b[0m\u001b[0;34m\u001b[0m\u001b[0m\n\u001b[0;32m--> 188\u001b[0;31m             \u001b[0mits\u001b[0m \u001b[0;34m=\u001b[0m \u001b[0mself\u001b[0m\u001b[0;34m.\u001b[0m\u001b[0miteration\u001b[0m\u001b[0;34m(\u001b[0m\u001b[0mnode_status\u001b[0m\u001b[0;34m)\u001b[0m\u001b[0;34m\u001b[0m\u001b[0m\n\u001b[0m\u001b[1;32m    189\u001b[0m             \u001b[0msystem_status\u001b[0m\u001b[0;34m.\u001b[0m\u001b[0mappend\u001b[0m\u001b[0;34m(\u001b[0m\u001b[0mits\u001b[0m\u001b[0;34m)\u001b[0m\u001b[0;34m\u001b[0m\u001b[0m\n\u001b[1;32m    190\u001b[0m         \u001b[0;32mreturn\u001b[0m \u001b[0msystem_status\u001b[0m\u001b[0;34m\u001b[0m\u001b[0m\n",
      "\u001b[0;32m~/Sites/epfl-coursework/netan/Team2-FinalProject/venv/lib/python3.6/site-packages/ndlib/models/epidemics/SIRNodewiseModel.py\u001b[0m in \u001b[0;36miteration\u001b[0;34m(self, node_status)\u001b[0m\n\u001b[1;32m     92\u001b[0m                     \u001b[0mactual_status\u001b[0m\u001b[0;34m[\u001b[0m\u001b[0mu\u001b[0m\u001b[0;34m]\u001b[0m \u001b[0;34m=\u001b[0m \u001b[0;36m2\u001b[0m\u001b[0;34m\u001b[0m\u001b[0m\n\u001b[1;32m     93\u001b[0m \u001b[0;34m\u001b[0m\u001b[0m\n\u001b[0;32m---> 94\u001b[0;31m         \u001b[0mdelta\u001b[0m\u001b[0;34m,\u001b[0m \u001b[0mnode_count\u001b[0m\u001b[0;34m,\u001b[0m \u001b[0mstatus_delta\u001b[0m \u001b[0;34m=\u001b[0m \u001b[0mself\u001b[0m\u001b[0;34m.\u001b[0m\u001b[0mstatus_delta\u001b[0m\u001b[0;34m(\u001b[0m\u001b[0mactual_status\u001b[0m\u001b[0;34m)\u001b[0m\u001b[0;34m\u001b[0m\u001b[0m\n\u001b[0m\u001b[1;32m     95\u001b[0m         \u001b[0mself\u001b[0m\u001b[0;34m.\u001b[0m\u001b[0mstatus\u001b[0m \u001b[0;34m=\u001b[0m \u001b[0mactual_status\u001b[0m\u001b[0;34m\u001b[0m\u001b[0m\n\u001b[1;32m     96\u001b[0m         \u001b[0mself\u001b[0m\u001b[0;34m.\u001b[0m\u001b[0mactual_iteration\u001b[0m \u001b[0;34m+=\u001b[0m \u001b[0;36m1\u001b[0m\u001b[0;34m\u001b[0m\u001b[0m\n",
      "\u001b[0;32m~/Sites/epfl-coursework/netan/Team2-FinalProject/venv/lib/python3.6/site-packages/ndlib/models/DiffusionModel.py\u001b[0m in \u001b[0;36mstatus_delta\u001b[0;34m(self, actual_status)\u001b[0m\n\u001b[1;32m    294\u001b[0m         \u001b[0;32mfor\u001b[0m \u001b[0mst\u001b[0m \u001b[0;32min\u001b[0m \u001b[0mlist\u001b[0m\u001b[0;34m(\u001b[0m\u001b[0mself\u001b[0m\u001b[0;34m.\u001b[0m\u001b[0mavailable_statuses\u001b[0m\u001b[0;34m.\u001b[0m\u001b[0mvalues\u001b[0m\u001b[0;34m(\u001b[0m\u001b[0;34m)\u001b[0m\u001b[0;34m)\u001b[0m\u001b[0;34m:\u001b[0m\u001b[0;34m\u001b[0m\u001b[0m\n\u001b[1;32m    295\u001b[0m             \u001b[0mactual_status_count\u001b[0m\u001b[0;34m[\u001b[0m\u001b[0mst\u001b[0m\u001b[0;34m]\u001b[0m \u001b[0;34m=\u001b[0m \u001b[0mlen\u001b[0m\u001b[0;34m(\u001b[0m\u001b[0;34m[\u001b[0m\u001b[0mx\u001b[0m \u001b[0;32mfor\u001b[0m \u001b[0mx\u001b[0m \u001b[0;32min\u001b[0m \u001b[0mactual_status\u001b[0m \u001b[0;32mif\u001b[0m \u001b[0mactual_status\u001b[0m\u001b[0;34m[\u001b[0m\u001b[0mx\u001b[0m\u001b[0;34m]\u001b[0m \u001b[0;34m==\u001b[0m \u001b[0mst\u001b[0m\u001b[0;34m]\u001b[0m\u001b[0;34m)\u001b[0m\u001b[0;34m\u001b[0m\u001b[0m\n\u001b[0;32m--> 296\u001b[0;31m             \u001b[0mold_status_count\u001b[0m\u001b[0;34m[\u001b[0m\u001b[0mst\u001b[0m\u001b[0;34m]\u001b[0m \u001b[0;34m=\u001b[0m \u001b[0mlen\u001b[0m\u001b[0;34m(\u001b[0m\u001b[0;34m[\u001b[0m\u001b[0mx\u001b[0m \u001b[0;32mfor\u001b[0m \u001b[0mx\u001b[0m \u001b[0;32min\u001b[0m \u001b[0mself\u001b[0m\u001b[0;34m.\u001b[0m\u001b[0mstatus\u001b[0m \u001b[0;32mif\u001b[0m \u001b[0mself\u001b[0m\u001b[0;34m.\u001b[0m\u001b[0mstatus\u001b[0m\u001b[0;34m[\u001b[0m\u001b[0mx\u001b[0m\u001b[0;34m]\u001b[0m \u001b[0;34m==\u001b[0m \u001b[0mst\u001b[0m\u001b[0;34m]\u001b[0m\u001b[0;34m)\u001b[0m\u001b[0;34m\u001b[0m\u001b[0m\n\u001b[0m\u001b[1;32m    297\u001b[0m \u001b[0;34m\u001b[0m\u001b[0m\n\u001b[1;32m    298\u001b[0m         \u001b[0mstatus_delta\u001b[0m \u001b[0;34m=\u001b[0m \u001b[0;34m{\u001b[0m\u001b[0mst\u001b[0m\u001b[0;34m:\u001b[0m \u001b[0mactual_status_count\u001b[0m\u001b[0;34m[\u001b[0m\u001b[0mst\u001b[0m\u001b[0;34m]\u001b[0m \u001b[0;34m-\u001b[0m \u001b[0mold_status_count\u001b[0m\u001b[0;34m[\u001b[0m\u001b[0mst\u001b[0m\u001b[0;34m]\u001b[0m \u001b[0;32mfor\u001b[0m \u001b[0mst\u001b[0m \u001b[0;32min\u001b[0m \u001b[0mactual_status_count\u001b[0m\u001b[0;34m}\u001b[0m\u001b[0;34m\u001b[0m\u001b[0m\n",
      "\u001b[0;32m~/Sites/epfl-coursework/netan/Team2-FinalProject/venv/lib/python3.6/site-packages/ndlib/models/DiffusionModel.py\u001b[0m in \u001b[0;36m<listcomp>\u001b[0;34m(.0)\u001b[0m\n\u001b[1;32m    294\u001b[0m         \u001b[0;32mfor\u001b[0m \u001b[0mst\u001b[0m \u001b[0;32min\u001b[0m \u001b[0mlist\u001b[0m\u001b[0;34m(\u001b[0m\u001b[0mself\u001b[0m\u001b[0;34m.\u001b[0m\u001b[0mavailable_statuses\u001b[0m\u001b[0;34m.\u001b[0m\u001b[0mvalues\u001b[0m\u001b[0;34m(\u001b[0m\u001b[0;34m)\u001b[0m\u001b[0;34m)\u001b[0m\u001b[0;34m:\u001b[0m\u001b[0;34m\u001b[0m\u001b[0m\n\u001b[1;32m    295\u001b[0m             \u001b[0mactual_status_count\u001b[0m\u001b[0;34m[\u001b[0m\u001b[0mst\u001b[0m\u001b[0;34m]\u001b[0m \u001b[0;34m=\u001b[0m \u001b[0mlen\u001b[0m\u001b[0;34m(\u001b[0m\u001b[0;34m[\u001b[0m\u001b[0mx\u001b[0m \u001b[0;32mfor\u001b[0m \u001b[0mx\u001b[0m \u001b[0;32min\u001b[0m \u001b[0mactual_status\u001b[0m \u001b[0;32mif\u001b[0m \u001b[0mactual_status\u001b[0m\u001b[0;34m[\u001b[0m\u001b[0mx\u001b[0m\u001b[0;34m]\u001b[0m \u001b[0;34m==\u001b[0m \u001b[0mst\u001b[0m\u001b[0;34m]\u001b[0m\u001b[0;34m)\u001b[0m\u001b[0;34m\u001b[0m\u001b[0m\n\u001b[0;32m--> 296\u001b[0;31m             \u001b[0mold_status_count\u001b[0m\u001b[0;34m[\u001b[0m\u001b[0mst\u001b[0m\u001b[0;34m]\u001b[0m \u001b[0;34m=\u001b[0m \u001b[0mlen\u001b[0m\u001b[0;34m(\u001b[0m\u001b[0;34m[\u001b[0m\u001b[0mx\u001b[0m \u001b[0;32mfor\u001b[0m \u001b[0mx\u001b[0m \u001b[0;32min\u001b[0m \u001b[0mself\u001b[0m\u001b[0;34m.\u001b[0m\u001b[0mstatus\u001b[0m \u001b[0;32mif\u001b[0m \u001b[0mself\u001b[0m\u001b[0;34m.\u001b[0m\u001b[0mstatus\u001b[0m\u001b[0;34m[\u001b[0m\u001b[0mx\u001b[0m\u001b[0;34m]\u001b[0m \u001b[0;34m==\u001b[0m \u001b[0mst\u001b[0m\u001b[0;34m]\u001b[0m\u001b[0;34m)\u001b[0m\u001b[0;34m\u001b[0m\u001b[0m\n\u001b[0m\u001b[1;32m    297\u001b[0m \u001b[0;34m\u001b[0m\u001b[0m\n\u001b[1;32m    298\u001b[0m         \u001b[0mstatus_delta\u001b[0m \u001b[0;34m=\u001b[0m \u001b[0;34m{\u001b[0m\u001b[0mst\u001b[0m\u001b[0;34m:\u001b[0m \u001b[0mactual_status_count\u001b[0m\u001b[0;34m[\u001b[0m\u001b[0mst\u001b[0m\u001b[0;34m]\u001b[0m \u001b[0;34m-\u001b[0m \u001b[0mold_status_count\u001b[0m\u001b[0;34m[\u001b[0m\u001b[0mst\u001b[0m\u001b[0;34m]\u001b[0m \u001b[0;32mfor\u001b[0m \u001b[0mst\u001b[0m \u001b[0;32min\u001b[0m \u001b[0mactual_status_count\u001b[0m\u001b[0;34m}\u001b[0m\u001b[0;34m\u001b[0m\u001b[0m\n",
      "\u001b[0;31mKeyboardInterrupt\u001b[0m: "
     ]
    }
   ],
   "source": [
    "MostInfluentialNodes = []\n",
    "\n",
    "while(len(MostInfluentialNodes) < 5):\n",
    "    MaxNode = None\n",
    "    \n",
    "    maxInfected = 0\n",
    "    for LoopNode in CFF_Graph.nodes():\n",
    "        _, states = sirSimSource(CFF_Graph, 20, LoopNode, otherNodes=MostInfluentialNodes)\n",
    "        state = states[-1]\n",
    "        nInfected = state['node_count'][1]\n",
    "        if nInfected > maxInfected:\n",
    "            maxInfected = nInfected\n",
    "            MaxNode = LoopNode\n",
    "    \n",
    "    MostInfluentialNodes.append(MaxNode)\n",
    "    \n",
    "print(MostInfluentialNodes)"
   ]
  },
  {
   "cell_type": "code",
   "execution_count": null,
   "metadata": {},
   "outputs": [],
   "source": []
  }
 ],
 "metadata": {
  "kernelspec": {
   "display_name": "Python 3",
   "language": "python",
   "name": "python3"
  },
  "language_info": {
   "codemirror_mode": {
    "name": "ipython",
    "version": 3
   },
   "file_extension": ".py",
   "mimetype": "text/x-python",
   "name": "python",
   "nbconvert_exporter": "python",
   "pygments_lexer": "ipython3",
   "version": "3.6.3"
  }
 },
 "nbformat": 4,
 "nbformat_minor": 2
}

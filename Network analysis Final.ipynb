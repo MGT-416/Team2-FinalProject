{
 "cells": [
  {
   "cell_type": "markdown",
   "metadata": {},
   "source": [
    "# Network analytics project on the CFF railway network"
   ]
  },
  {
   "cell_type": "markdown",
   "metadata": {},
   "source": [
    "Hereafter is the anlysis conducted on the CFF railway network extracted and cleaned. "
   ]
  },
  {
   "cell_type": "markdown",
   "metadata": {},
   "source": [
    "### Libraries"
   ]
  },
  {
   "cell_type": "code",
   "execution_count": 1,
   "metadata": {
    "scrolled": true
   },
   "outputs": [
    {
     "name": "stdout",
     "output_type": "stream",
     "text": [
      "Uninstalling ndlib-3.1.2:\n",
      "  Successfully uninstalled ndlib-3.1.2\n"
     ]
    }
   ],
   "source": [
    "!pip uninstall -y ndlib"
   ]
  },
  {
   "cell_type": "code",
   "execution_count": 2,
   "metadata": {
    "scrolled": false
   },
   "outputs": [
    {
     "name": "stdout",
     "output_type": "stream",
     "text": [
      "Collecting git+https://github.com/CedricCook/ndlib\n",
      "  Cloning https://github.com/CedricCook/ndlib to /private/var/folders/6y/6jmj4fm93xj8h9dt50wssf940000gn/T/pip-j5w6gf8o-build\n",
      "Requirement already satisfied: numpy in ./venv/lib/python3.6/site-packages (from ndlib==3.1.2)\n",
      "Requirement already satisfied: networkx in ./venv/lib/python3.6/site-packages (from ndlib==3.1.2)\n",
      "Requirement already satisfied: dynetx in ./venv/lib/python3.6/site-packages (from ndlib==3.1.2)\n",
      "Requirement already satisfied: scipy in ./venv/lib/python3.6/site-packages (from ndlib==3.1.2)\n",
      "Requirement already satisfied: bokeh in ./venv/lib/python3.6/site-packages (from ndlib==3.1.2)\n",
      "Requirement already satisfied: future in ./venv/lib/python3.6/site-packages (from ndlib==3.1.2)\n",
      "Requirement already satisfied: decorator>=3.4.0 in ./venv/lib/python3.6/site-packages (from networkx->ndlib==3.1.2)\n",
      "Requirement already satisfied: tornado>=4.3 in ./venv/lib/python3.6/site-packages (from bokeh->ndlib==3.1.2)\n",
      "Requirement already satisfied: python-dateutil>=2.1 in ./venv/lib/python3.6/site-packages (from bokeh->ndlib==3.1.2)\n",
      "Requirement already satisfied: Jinja2>=2.7 in ./venv/lib/python3.6/site-packages (from bokeh->ndlib==3.1.2)\n",
      "Requirement already satisfied: six>=1.5.2 in ./venv/lib/python3.6/site-packages (from bokeh->ndlib==3.1.2)\n",
      "Requirement already satisfied: PyYAML>=3.10 in ./venv/lib/python3.6/site-packages (from bokeh->ndlib==3.1.2)\n",
      "Requirement already satisfied: MarkupSafe>=0.23 in ./venv/lib/python3.6/site-packages (from Jinja2>=2.7->bokeh->ndlib==3.1.2)\n",
      "Installing collected packages: ndlib\n",
      "  Running setup.py install for ndlib ... \u001b[?25ldone\n",
      "\u001b[?25hSuccessfully installed ndlib-3.1.2\n"
     ]
    }
   ],
   "source": [
    "!pip install git+https://github.com/CedricCook/ndlib"
   ]
  },
  {
   "cell_type": "code",
   "execution_count": 3,
   "metadata": {},
   "outputs": [],
   "source": [
    "import networkx as nx\n",
    "import matplotlib.pyplot as plt\n",
    "import pandas as pd\n",
    "import numpy as np\n",
    "import ndlib\n",
    "\n",
    "import warnings\n",
    "warnings.filterwarnings('ignore')"
   ]
  },
  {
   "cell_type": "markdown",
   "metadata": {},
   "source": [
    "### Import the graph"
   ]
  },
  {
   "cell_type": "code",
   "execution_count": 4,
   "metadata": {
    "scrolled": true
   },
   "outputs": [
    {
     "name": "stdout",
     "output_type": "stream",
     "text": [
      "Name: \n",
      "Type: Graph\n",
      "Number of nodes: 17718\n",
      "Number of edges: 21101\n",
      "Average degree:   2.3819\n"
     ]
    }
   ],
   "source": [
    "CFF_Graph = nx.read_gml('CFF_Graph_Final_2.gml')\n",
    "print(nx.info(CFF_Graph))"
   ]
  },
  {
   "cell_type": "markdown",
   "metadata": {},
   "source": [
    "As the average degree is really low (close to 2) we are almost dealing with a tree and therefore the graph will not be easy to draw. "
   ]
  },
  {
   "cell_type": "code",
   "execution_count": null,
   "metadata": {},
   "outputs": [],
   "source": [
    "nx.draw_networkx(CFF_Graph, pos=nx.spring_layout(CFF_Graph), with_labels=False, size = 15)\n",
    "plt.show()"
   ]
  },
  {
   "cell_type": "code",
   "execution_count": null,
   "metadata": {},
   "outputs": [],
   "source": [
    "nx.draw_circular(CFF_Graph, with_labels = False, size = 15)\n",
    "plt.show()"
   ]
  },
  {
   "cell_type": "code",
   "execution_count": null,
   "metadata": {},
   "outputs": [],
   "source": [
    "nx.draw_spectral(CFF_Graph, with_labels = False, size = 15)\n",
    "plt.show()"
   ]
  },
  {
   "cell_type": "code",
   "execution_count": null,
   "metadata": {},
   "outputs": [],
   "source": [
    "nx.draw_spring(CFF_Graph, with_labels = False, size = 15)\n",
    "plt.show()"
   ]
  },
  {
   "cell_type": "markdown",
   "metadata": {},
   "source": [
    "As the drawings are not very good looking with networkx, I will plot them with community detection method in the following paragraph. (I will perform this on the GCC)"
   ]
  },
  {
   "cell_type": "markdown",
   "metadata": {},
   "source": [
    "# Diameter and average shortest path length with the GCC"
   ]
  },
  {
   "cell_type": "markdown",
   "metadata": {},
   "source": [
    "To deal with the diameter and the average shortest path length, it is necessary to deal with the giant connected component of the graph. "
   ]
  },
  {
   "cell_type": "code",
   "execution_count": null,
   "metadata": {
    "scrolled": true
   },
   "outputs": [],
   "source": [
    "# Extract the giant connected component to compute the diameter and the average shortest path length\n",
    "CFF_Graph_GCC = max(nx.connected_component_subgraphs(CFF_Graph), key=len) \n",
    "print(nx.info(CFF_Graph_GCC))"
   ]
  },
  {
   "cell_type": "code",
   "execution_count": null,
   "metadata": {},
   "outputs": [],
   "source": [
    "print('The diameter of the GCC is ', nx.diameter(CFF_Graph_GCC))\n",
    "print('The average shortest path length of the GCC is ', nx.average_shortest_path_length(CFF_Graph_GCC))"
   ]
  },
  {
   "cell_type": "markdown",
   "metadata": {},
   "source": [
    "These results are what one could expect. Indeed, these results tell us that the longest distance in the network is 58 which seem coherent with the size of Switzerland. Moreover, the average shortest path length is about 14 stops which mean that on average people can go from anywhere in Switzerland to anywhere else in 14 stops. (It is also coherent with the size of the country)."
   ]
  },
  {
   "cell_type": "markdown",
   "metadata": {},
   "source": [
    "# Community Detection with the GCC"
   ]
  },
  {
   "cell_type": "markdown",
   "metadata": {},
   "source": [
    "In this part, we will look at the different communities in the network. For this purpose, we will use the GCC in order to avoid single node community and to have a better understanding of what is goind on in the network. "
   ]
  },
  {
   "cell_type": "code",
   "execution_count": null,
   "metadata": {
    "scrolled": true
   },
   "outputs": [],
   "source": [
    "# Install and import the Louvain algorithm\n",
    "!pip install python-louvain\n",
    "import community as community "
   ]
  },
  {
   "cell_type": "code",
   "execution_count": null,
   "metadata": {},
   "outputs": [],
   "source": [
    "# Create the best partition \n",
    "partition = community.best_partition(CFF_Graph_GCC)"
   ]
  },
  {
   "cell_type": "code",
   "execution_count": null,
   "metadata": {},
   "outputs": [],
   "source": [
    "# Drawing\n",
    "size = float(len(set(partition.values())))\n",
    "pos = nx.spring_layout(CFF_Graph_GCC)\n",
    "count = 0.\n",
    "for com in set(partition.values()) :\n",
    "    count = count + 1.\n",
    "    list_nodes = [nodes for nodes in partition.keys()\n",
    "                                if partition[nodes] == com]\n",
    "    nx.draw_networkx_nodes(CFF_Graph_GCC, pos, list_nodes, node_size = 20,\n",
    "                                node_color = str(count / size))\n",
    "\n",
    "\n",
    "nx.draw_networkx_edges(CFF_Graph_GCC,pos, alpha=0.5)\n",
    "plt.show()"
   ]
  },
  {
   "cell_type": "markdown",
   "metadata": {},
   "source": [
    "This graph is not very signifiant. Let's plot the graph for each community."
   ]
  },
  {
   "cell_type": "code",
   "execution_count": null,
   "metadata": {},
   "outputs": [],
   "source": [
    "# Give the number of communities\n",
    "size = int(len(set(partition.values())))\n",
    "print('The number of communities: ', size)"
   ]
  },
  {
   "cell_type": "markdown",
   "metadata": {},
   "source": [
    "This number of communities is coherent also with the size of the country. As we know that there are 26 \"cantons\" in Switzerland, we can see that there is almost 1.5/2 communities per canton which is reasonable (2 hubs per canton on average)"
   ]
  },
  {
   "cell_type": "code",
   "execution_count": null,
   "metadata": {},
   "outputs": [],
   "source": [
    "# Function to plot each community \n",
    "def plot_community(G,number):\n",
    "    # Get the list of nodes in community numbered \"number\"\n",
    "    c = [nodes for nodes in partition.keys() if partition[nodes] == number]\n",
    "    # Extract the graph\n",
    "    T = G.subgraph(c)\n",
    "    # Name the community\n",
    "    degree = nx.degree(T)\n",
    "    degree_sorted = sorted(degree, key=degree.__getitem__, reverse=True)\n",
    "    if ((len(degree_sorted))!=0):\n",
    "        title_com = degree_sorted[0]\n",
    "        # Plot the subgraph\n",
    "        nx.draw_networkx(T,pos=nx.spring_layout(T), with_labels=False, size = 15)\n",
    "        plt.title(title_com)\n",
    "        plt.show()\n",
    "   "
   ]
  },
  {
   "cell_type": "code",
   "execution_count": null,
   "metadata": {
    "scrolled": true
   },
   "outputs": [],
   "source": [
    "# Display the 40 communities with title corresponding to the highest degree node\n",
    "for i in range(size):\n",
    "    plot_community(CFF_Graph,i+1)"
   ]
  },
  {
   "cell_type": "markdown",
   "metadata": {},
   "source": [
    "As expected, most of the communities are associated with one big city/hubs in the different canton. Some of the communities correspond to smaller et more local region but overall the results are consistent. However we can notice that Lausanne seem not to have a community but is probably in the Montreux community. As I also take into account regional train, maybe Montreux has larger degree than Lausanne and it explains why the community is named \"Montreux\"."
   ]
  },
  {
   "cell_type": "markdown",
   "metadata": {},
   "source": [
    "# Degree Distribution"
   ]
  },
  {
   "cell_type": "code",
   "execution_count": null,
   "metadata": {},
   "outputs": [],
   "source": [
    "Degree_List = list(nx.degree(CFF_Graph).values())\n",
    "\n",
    "plt.hist(Degree_List) # Plot the Frequency distribution linlin  \n",
    "plt.xlabel('Degree')  \n",
    "plt.ylabel('Frequency')\n",
    "plt.title('Degree distribution CFF_Graph - LinLin')  \n",
    "plt.show()\n",
    "\n",
    "plt.hist(Degree_List, log = True)   # Plot the Frequency distribution loglin\n",
    "plt.xlabel('Degree')\n",
    "plt.ylabel('Frequency')\n",
    "plt.title('Degree distribution CFF_Graph - LogLin')\n",
    "plt.show()\n",
    "\n",
    "plt.hist(Degree_List, normed=True) # Plot the probability distribution linlin  \n",
    "plt.xlabel('Degree')  \n",
    "plt.ylabel('Probability*bins_width')\n",
    "plt.title('Degree distribution CFF_Graph - LinLin')  \n",
    "plt.show()\n",
    "\n",
    "plt.hist(Degree_List, log = True, normed = True)   # Plot the Frequency distribution loglin\n",
    "plt.xlabel('Degree')\n",
    "plt.ylabel('Probability*bins_width')\n",
    "plt.title('Degree distribution CFF_Graph - LogLin')\n",
    "plt.show()"
   ]
  },
  {
   "cell_type": "markdown",
   "metadata": {},
   "source": [
    "These graphs show us that the degree distribution seems to be like an decreasing exponential one (like a Poisson law maybe). It is coherent as we consider many small, regional and isolated stop with 1 or 2 connections. As expected, there is a few big hubs connected to more than 20 other stops. "
   ]
  },
  {
   "cell_type": "markdown",
   "metadata": {},
   "source": [
    "# Density, local and overall clustering"
   ]
  },
  {
   "cell_type": "code",
   "execution_count": null,
   "metadata": {},
   "outputs": [],
   "source": [
    "print('The average clustering coefficient for the network is', nx.average_clustering(CFF_Graph))\n",
    "print('The overall clustering coefficient for the network is', nx.transitivity(CFF_Graph))\n",
    "print('The density of the network is', nx.density(CFF_Graph))\n",
    "print(CFF_Graph)"
   ]
  },
  {
   "cell_type": "markdown",
   "metadata": {},
   "source": [
    "The clustering coefficient and the density of the network are quite low. As expected the network is really sparse as we take into account really small regional stops. "
   ]
  },
  {
   "cell_type": "markdown",
   "metadata": {},
   "source": [
    "# Centrality Measures"
   ]
  },
  {
   "cell_type": "markdown",
   "metadata": {},
   "source": [
    "Hereafter are listed all the different centrality measure seen in class."
   ]
  },
  {
   "cell_type": "markdown",
   "metadata": {},
   "source": [
    "### Degree Centrality"
   ]
  },
  {
   "cell_type": "code",
   "execution_count": null,
   "metadata": {},
   "outputs": [],
   "source": [
    "# Degree centrality \n",
    "Degree_Centrality = nx.degree(CFF_Graph)"
   ]
  },
  {
   "cell_type": "code",
   "execution_count": null,
   "metadata": {},
   "outputs": [],
   "source": [
    "# Highest nodes for degree centrality\n",
    "Degree_Centrality_Sorted = sorted(Degree_Centrality, key=Degree_Centrality.__getitem__, reverse=True)\n",
    "print('The top 20 nodes for degree centrality are:')\n",
    "for i in range(20):\n",
    "    print(Degree_Centrality_Sorted[i])"
   ]
  },
  {
   "cell_type": "markdown",
   "metadata": {},
   "source": [
    "### Closeness Centrality"
   ]
  },
  {
   "cell_type": "code",
   "execution_count": null,
   "metadata": {},
   "outputs": [],
   "source": [
    "# Closeness Centrality\n",
    "Close_Centrality = nx.closeness_centrality(CFF_Graph)"
   ]
  },
  {
   "cell_type": "code",
   "execution_count": null,
   "metadata": {},
   "outputs": [],
   "source": [
    "# Highest nodes for closeness\n",
    "Close_Centrality_Sorted = sorted(Close_Centrality, key=Close_Centrality.__getitem__, reverse=True)\n",
    "print('The top 20 nodes for closeness centrality are:')\n",
    "for i in range(20):\n",
    "    print(Close_Centrality_Sorted[i])"
   ]
  },
  {
   "cell_type": "markdown",
   "metadata": {},
   "source": [
    "### Betweenness Centrality"
   ]
  },
  {
   "cell_type": "code",
   "execution_count": null,
   "metadata": {},
   "outputs": [],
   "source": [
    "# Betweenness centrality\n",
    "Between_Centrality = nx.betweenness_centrality(CFF_Graph)"
   ]
  },
  {
   "cell_type": "code",
   "execution_count": null,
   "metadata": {},
   "outputs": [],
   "source": [
    "# Highest nodes for betweenness\n",
    "Between_Centrality_Sorted = sorted(Between_Centrality, key=Between_Centrality.__getitem__, reverse=True)\n",
    "print('The top 20 nodes for betweenness centrality are:')\n",
    "for i in range(20):\n",
    "    print(Between_Centrality_Sorted[i])"
   ]
  },
  {
   "cell_type": "markdown",
   "metadata": {},
   "source": [
    "### Page Rank"
   ]
  },
  {
   "cell_type": "code",
   "execution_count": null,
   "metadata": {},
   "outputs": [],
   "source": [
    "# Page rank \n",
    "Page_Rank = nx.pagerank(CFF_Graph)"
   ]
  },
  {
   "cell_type": "code",
   "execution_count": null,
   "metadata": {},
   "outputs": [],
   "source": [
    "# Highest nodes for Page rank measure\n",
    "Page_Rank_Sorted = sorted(Page_Rank, key=Page_Rank.__getitem__, reverse=True)\n",
    "print('The top 20 nodes for page rank are:')\n",
    "for i in range(20):\n",
    "    print(Page_Rank_Sorted[i])"
   ]
  },
  {
   "cell_type": "markdown",
   "metadata": {},
   "source": [
    "### EigenVector Centrality"
   ]
  },
  {
   "cell_type": "code",
   "execution_count": null,
   "metadata": {},
   "outputs": [],
   "source": [
    "# EigenVector centrality \n",
    "EigenVector_Centrality = nx.eigenvector_centrality(CFF_Graph)"
   ]
  },
  {
   "cell_type": "code",
   "execution_count": null,
   "metadata": {},
   "outputs": [],
   "source": [
    "# Highest nodes for EigenVector Centrality \n",
    "EigenVector_Centrality_Sorted = sorted(EigenVector_Centrality, key=EigenVector_Centrality.__getitem__, reverse=True)\n",
    "print('The top 20 nodes for eigenvector centrality are:')\n",
    "for i in range(20):\n",
    "    print(EigenVector_Centrality_Sorted[i])"
   ]
  },
  {
   "cell_type": "markdown",
   "metadata": {},
   "source": [
    "Again, as we could expect, the centrality measures return all the big hubs in Switzerland like Zurich, Lausanne, Geneve, Bern, Otlen, Bale, Luzern,..\n",
    "It therefore shows that these cities are the most \"important\" ones in the railway network of Switzerland. "
   ]
  },
  {
   "cell_type": "markdown",
   "metadata": {},
   "source": [
    "# Homophily"
   ]
  },
  {
   "cell_type": "markdown",
   "metadata": {},
   "source": [
    "This anlysis can maybe be conducted by canton if we can find an easy and automatized way to affect a canton value to a station or a stop. I don't have time to do it now but it can be a good analysis for the final project. "
   ]
  },
  {
   "cell_type": "markdown",
   "metadata": {},
   "source": [
    "# Ties strength analysis (Neighborhood overlap)"
   ]
  },
  {
   "cell_type": "markdown",
   "metadata": {},
   "source": [
    "Let's report the code generated in Assignment 2 to calculate the neighborhood overlap"
   ]
  },
  {
   "cell_type": "code",
   "execution_count": null,
   "metadata": {},
   "outputs": [],
   "source": [
    "neigh_overlap = dict()  # Create the dictionnary of the neighbourhood overlap\n",
    "\n",
    "for e in CFF_Graph.edges():\n",
    "    source = e[0]\n",
    "    sink = e[1]\n",
    "    neigh_source = list(nx.all_neighbors(CFF_Graph,source)) # list of neighbors of the source vertex\n",
    "    neigh_sink = list(nx.all_neighbors(CFF_Graph,sink)) # list of neighbors of the sink vertex\n",
    "    \n",
    "    neigh_source.remove(sink) # The sink node is not included in the number of neighbors according to Easley and Kleinberg\n",
    "    neigh_sink.remove(source) # The source node is not included in the number of neighbors according to Easley and Kleinberg\n",
    "    \n",
    "    common_neighbors = len(list(nx.common_neighbors(CFF_Graph,source,sink))) # number of common neighbors\n",
    "    at_least_one = len(neigh_source) + len(neigh_sink) - common_neighbors # number of neighbors of at least one node \n",
    "    if (at_least_one == 0):\n",
    "        print('The nodes', source, 'and', sink, 'are isolated.')\n",
    "    else:\n",
    "        ratio = common_neighbors/at_least_one\n",
    "        neigh_overlap[e] = ratio\n",
    "    "
   ]
  },
  {
   "cell_type": "markdown",
   "metadata": {},
   "source": [
    "Let's now look at the neighborhood overlap distribution "
   ]
  },
  {
   "cell_type": "code",
   "execution_count": null,
   "metadata": {},
   "outputs": [],
   "source": [
    "list_overlap = list(neigh_overlap.values()) # List of the overlap coefficients\n",
    "plt.hist(list_overlap)    \n",
    "plt.xlabel('Neighbourhood Overlap')\n",
    "plt.ylabel('Frequency')\n",
    "plt.title('Neighbourhood Overlap frequency distribution')\n",
    "plt.show()"
   ]
  },
  {
   "cell_type": "markdown",
   "metadata": {},
   "source": [
    "As expected there is a lot of zeros as many stops are not hubs but small stops with just two neighbors (the previous and the next one of a line)"
   ]
  },
  {
   "cell_type": "markdown",
   "metadata": {
    "collapsed": true
   },
   "source": [
    "Let's look at the lowest and highest links to confirm"
   ]
  },
  {
   "cell_type": "code",
   "execution_count": null,
   "metadata": {},
   "outputs": [],
   "source": [
    "sorted_overlap = sorted(neigh_overlap, key=neigh_overlap.__getitem__)\n",
    "\n",
    "# Print the 20 links with lowest overlap\n",
    "print('The 20 lowest links for the neighborhood overlap are:')\n",
    "for i in range(20):\n",
    "    print(sorted_overlap[i])\n",
    "    \n",
    "# Print the 20 links with highest overlap\n",
    "print('\\n The 20 highest links for the neighborhood overlap are:')\n",
    "for i in range(20):\n",
    "    print(sorted_overlap[-i-1])"
   ]
  },
  {
   "cell_type": "markdown",
   "metadata": {},
   "source": [
    "The analysis of the neighborhood overlap is really strange for this network. Indeed, due to regional trains the results are falsed by all the small connections. It will require to aggregate some of the data to have a better view on the neighborhood overlap."
   ]
  },
  {
   "cell_type": "markdown",
   "metadata": {},
   "source": [
    "## Infection model "
   ]
  },
  {
   "cell_type": "markdown",
   "metadata": {},
   "source": [
    "In this part we will analyse the spread of an infection accross Switzerland. We are going to use a SIR model. The probability of infection will be define as follow: \n",
    "- Probability constant for a bus infection\n",
    "- Probability proportional to the population of the city for the train station"
   ]
  },
  {
   "cell_type": "code",
   "execution_count": 5,
   "metadata": {},
   "outputs": [],
   "source": [
    "import ndlib.models.epidemics.SIRNodewiseModel as sir\n",
    "import ndlib.models.ModelConfig as mc"
   ]
  },
  {
   "cell_type": "code",
   "execution_count": 6,
   "metadata": {},
   "outputs": [],
   "source": [
    "MAX_POPULATION = 390000"
   ]
  },
  {
   "cell_type": "code",
   "execution_count": 7,
   "metadata": {},
   "outputs": [],
   "source": [
    "data_stops_with_population = pd.read_csv('stops_with_population.csv')\n",
    "for node in CFF_Graph.nodes():\n",
    "    pop_values = data_stops_with_population.loc[data_stops_with_population['stop'] == node]['population'].values\n",
    "    if len(pop_values) > 0:\n",
    "        population = pop_values[0]\n",
    "    else:\n",
    "        population = None\n",
    "        \n",
    "    CFF_Graph.node[node]['population'] = population"
   ]
  },
  {
   "cell_type": "code",
   "execution_count": 8,
   "metadata": {
    "scrolled": false
   },
   "outputs": [
    {
     "name": "stdout",
     "output_type": "stream",
     "text": [
      "{'ids': ['8503000:0:15', '8503000:0:41/42', '8503000:0:10', '8503000:0:17', '8503000', '8503000:0:8', '8503000:0:16', '8503000:0:18', '8503000:0:14', '8503000:0:12', '8503000:0:43/44', '8503000:0:13', '8503000:0:11', '8503000:0:9', '8503000:0:6', '8503000:0:31', '8503000:0:34', '8503000:0:5', '8503000:0:4', '8503000:0:32', '8503000:0:7', '8503000:0:3', '8503000:0:33'], 'lat': 47.3784803529949, 'lon': 8.540193575784679, 'NodeType': 'Train', 'population': 387225}\n"
     ]
    }
   ],
   "source": [
    "print(CFF_Graph.node['Zürich HB'])"
   ]
  },
  {
   "cell_type": "code",
   "execution_count": 9,
   "metadata": {},
   "outputs": [],
   "source": [
    "def sir_nw(infected_nodes, nb_iter):\n",
    "    # Create the SIR model \n",
    "    sir_model = sir.SIRNodewiseModel(CFF_Graph)\n",
    "\n",
    "    # Initialize the parameter for the diffusion model\n",
    "    sir_cfg = mc.Configuration()\n",
    "#     sir_cfg.add_model_parameter('beta', 0.01)\n",
    "    sir_cfg.add_model_parameter('gamma', 0.005)\n",
    "    \n",
    "    for node in CFF_Graph.nodes():\n",
    "        population = CFF_Graph.node[node]['population']\n",
    "        node_beta = 0.05 # default for bus stops\n",
    "        if population == -1:\n",
    "            node_beta = 0.05\n",
    "        elif population > 0:\n",
    "            node_beta = population / MAX_POPULATION\n",
    "            \n",
    "        sir_cfg.add_node_configuration('beta', node, node_beta)\n",
    "    \n",
    "    sir_cfg.add_model_initial_configuration(\"Infected\", infected_nodes)\n",
    "\n",
    "    sir_model.set_initial_status(sir_cfg)\n",
    "    \n",
    "    # Calculate the nb_ite iterations and the trends\n",
    "    sir_iter = sir_model.iteration_bunch(nb_iter)\n",
    "    \n",
    "    return sir_model, sir_iter"
   ]
  },
  {
   "cell_type": "code",
   "execution_count": 10,
   "metadata": {
    "scrolled": false
   },
   "outputs": [
    {
     "name": "stdout",
     "output_type": "stream",
     "text": [
      "{0: 17421, 1: 197, 2: 100}\n"
     ]
    }
   ],
   "source": [
    "model, iters = sir_nw(['Lausanne'], 200)\n",
    "print(iters[-1]['node_count'])"
   ]
  },
  {
   "cell_type": "code",
   "execution_count": 11,
   "metadata": {
    "scrolled": true
   },
   "outputs": [
    {
     "name": "stdout",
     "output_type": "stream",
     "text": [
      "no display found. Using non-interactive Agg backend\n"
     ]
    }
   ],
   "source": [
    "import ndlib.viz.mpl.DiffusionTrend as dt"
   ]
  },
  {
   "cell_type": "code",
   "execution_count": 12,
   "metadata": {},
   "outputs": [
    {
     "data": {
      "image/png": "[encoded data removed]",
      "text/plain": [
       "<matplotlib.figure.Figure at 0x109bc0b00>"
      ]
     },
     "metadata": {},
     "output_type": "display_data"
    }
   ],
   "source": [
    "# Simulation execution\n",
    "trends = model.build_trends(iters)\n",
    "\n",
    "# Visualization\n",
    "viz = dt.DiffusionTrend(model, trends)\n",
    "viz.plot()"
   ]
  },
  {
   "cell_type": "markdown",
   "metadata": {},
   "source": [
    "Print the screenshot of the diffusion trend after"
   ]
  }
 ],
 "metadata": {
  "kernelspec": {
   "display_name": "Python 3",
   "language": "python",
   "name": "python3"
  },
  "language_info": {
   "codemirror_mode": {
    "name": "ipython",
    "version": 3
   },
   "file_extension": ".py",
   "mimetype": "text/x-python",
   "name": "python",
   "nbconvert_exporter": "python",
   "pygments_lexer": "ipython3",
   "version": "3.6.3"
  }
 },
 "nbformat": 4,
 "nbformat_minor": 2
}
